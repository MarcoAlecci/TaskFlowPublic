{
 "cells": [
  {
   "cell_type": "markdown",
   "metadata": {},
   "source": [
    "## 🏷️ Sub-Phase 1: Initial Filtering\n",
    "\n",
    "Methods are assigned one of these labels: ADVANTAGE_GAIN if the return value could be exploited, or NO_INFORMATION otherwise."
   ]
  },
  {
   "cell_type": "code",
   "execution_count": null,
   "metadata": {},
   "outputs": [],
   "source": [
    "# Imports\n",
    "from   dotenv   import load_dotenv\n",
    "import pandas   as pd\n",
    "import datetime\n",
    "import json\n",
    "import os\n",
    "\n",
    "# Custom Imports\n",
    "import sys\n",
    "sys.path.append('../')\n",
    "import AnalysisUtils\n",
    "import LLMUtils "
   ]
  },
  {
   "cell_type": "markdown",
   "metadata": {},
   "source": [
    "##### Parameters"
   ]
  },
  {
   "cell_type": "code",
   "execution_count": null,
   "metadata": {},
   "outputs": [],
   "source": [
    "TMP_PATH = \"../0_Data/TMP\""
   ]
  },
  {
   "cell_type": "markdown",
   "metadata": {},
   "source": [
    "#### Initialization"
   ]
  },
  {
   "cell_type": "code",
   "execution_count": null,
   "metadata": {},
   "outputs": [],
   "source": [
    "print(\"⚡ START: {} ⚡\".format(datetime.datetime.now().strftime(\"%Y-%m-%d %H:%M:%S\")))\n",
    "initTime = datetime.datetime.now()"
   ]
  },
  {
   "cell_type": "code",
   "execution_count": null,
   "metadata": {},
   "outputs": [],
   "source": [
    "# Create TMP Folder\n",
    "if not os.path.exists(TMP_PATH):\n",
    "\tos.makedirs(TMP_PATH)\n",
    "\tprint(\"--- 📁🆕 Folder created       : {}\\n\".format(TMP_PATH))\n",
    "else:\n",
    "\tprint(\"--- 📁✅ Folder already exists: {}\\n\".format(TMP_PATH))"
   ]
  },
  {
   "cell_type": "code",
   "execution_count": null,
   "metadata": {},
   "outputs": [],
   "source": [
    "# Load .env Info\n",
    "load_dotenv()"
   ]
  },
  {
   "cell_type": "markdown",
   "metadata": {},
   "source": [
    "#### 📥 1) Load Data "
   ]
  },
  {
   "cell_type": "code",
   "execution_count": null,
   "metadata": {},
   "outputs": [],
   "source": [
    "# Starting set of methods  Full Set (45k)\n",
    "DATA_PATH = \"../0_Data/androidMethods.csv\"\n",
    "\n",
    "# Load the CSV file into a DataFrame\n",
    "methodsDF = pd.read_csv(DATA_PATH)"
   ]
  },
  {
   "cell_type": "code",
   "execution_count": null,
   "metadata": {},
   "outputs": [],
   "source": [
    "# Test purposes\n",
    "methodsDF = methodsDF.head(3)\n",
    "\n",
    "methodsDF.head(3)"
   ]
  },
  {
   "cell_type": "markdown",
   "metadata": {},
   "source": [
    "#### 🖥️ 2) LLM Analysis"
   ]
  },
  {
   "cell_type": "code",
   "execution_count": null,
   "metadata": {},
   "outputs": [],
   "source": [
    "# MODEL to be used\n",
    "MODEL = \"gpt-4o-mini\""
   ]
  },
  {
   "cell_type": "code",
   "execution_count": null,
   "metadata": {},
   "outputs": [],
   "source": [
    "print(\"\\n--- ⭕ LLM Init & Check\")\n",
    "print(\"--- ⭕ Model: {}\".format(MODEL))\n",
    "\n",
    "# OpenAI (PAYING)\n",
    "llmInterface = LLMUtils.ChatGPTInterface(model=MODEL, pricing=0.150)\n",
    "print(llmInterface.sendRequest(\"Ping!\"))"
   ]
  },
  {
   "cell_type": "code",
   "execution_count": null,
   "metadata": {},
   "outputs": [],
   "source": [
    "PROMPT_PHASE1 = \"\"\"\n",
    "You are an expert in Android App Security.  \n",
    "Your task is to analyze the given Android API method, focusing only on its return value and assessing whether an attacker could exploit it.  \n",
    "\n",
    "## **Task Instructions:**  \n",
    "1. Examine the provided documentation to understand the function, context, and significance of the return value.  \n",
    "2. Determine whether an attacker could exploit this return value for an advantage, either independently or in combination with other data.\n",
    "3. Consider potential indirect advantages an attacker might gain from this return value. (Example: `<android.hardware.SensorManager: android.hardware.Sensor getDefaultSensor(int,boolean)>` can reveal the presence of a specific sensor, which can later be used to retrieve sensor data.)\n",
    "4. Only analyze the return value. Do not consider how the method can be used in general.  \n",
    "\n",
    "## Output Format:\n",
    "Reply with only one of the following labels \n",
    "- ADVANTAGE_GAIN – if the return value could provide an attacker with useful information or an advantage. \n",
    "- NO_INFORMATION – if the return value provides no useful information to an attacker.\n",
    "\n",
    "Provide only the label—no explanations or additional text.\n",
    "\"\"\""
   ]
  },
  {
   "cell_type": "code",
   "execution_count": null,
   "metadata": {},
   "outputs": [],
   "source": [
    "# Paths\n",
    "DOCUMENTATION_PATH = \"../0_Data/methodsDocumentationFiles/\"\n",
    "\n",
    "# Number of replies to get\n",
    "NUM_REPLIES = 5\n",
    "\n",
    "# Max requests to send to LLMs\n",
    "MAX_REQUESTS = 10"
   ]
  },
  {
   "cell_type": "code",
   "execution_count": null,
   "metadata": {},
   "outputs": [],
   "source": [
    "print(\"\\n--- ⭕ START\\n\")\n",
    "\n",
    "# Process the DataFrame\n",
    "def processRow(row):\n",
    "\t# Get information from the row\n",
    "\tsha256          = row['sha256']\n",
    "\tmethodSignature = row['methodSignature']\n",
    "\n",
    "\tprint(\"===\"*20)\n",
    "\tprint(\"\\n--- 🔍 Android Method: {}\".format(methodSignature))\n",
    "\n",
    "\t# Retrieve documentation and sourceCode\n",
    "\tdocumentationPath = os.path.join(DOCUMENTATION_PATH, \"{}.txt\".format(sha256))\n",
    "\twith open(documentationPath, 'r') as DocFile:\n",
    "\t\tdocumentation = DocFile.read()\n",
    "\n",
    "\t# Create an object representing the Android Method\n",
    "\tandroidMethod = AnalysisUtils.AndroidMethod(sha256, methodSignature, documentation)\n",
    "\n",
    "\t# Create the prompt\n",
    "\tprompt = androidMethod.addAllToPrompt(PROMPT_PHASE1)\n",
    "\n",
    "\t# Test purposes\n",
    "\t# print(prompt)\n",
    "\n",
    "\tlabelFrequency = AnalysisUtils.labelAndroidMethod(llmInterface, prompt, ['ADVANTAGE_GAIN','NO_INFORMATION'], NUM_REPLIES, MAX_REQUESTS)\n",
    "\tllmLabel \t   = AnalysisUtils.getMostFrequentLabel(labelFrequency)\n",
    "\tprint(\"--- 🔍 Label Frequency     :\", labelFrequency)\n",
    "\tprint(\"--- 🏷️ Most Frequent Label :\", llmLabel)\n",
    "\n",
    "\t# Save the label\n",
    "\tmethodsDF.at[row.name, 'llmLabel_START'] = llmLabel\n",
    "\n",
    "\tprint(\"===\"*20)\n",
    "\n",
    "# Apply the function to the DataFrame\n",
    "_ = methodsDF.apply(processRow, axis=1)"
   ]
  },
  {
   "cell_type": "markdown",
   "metadata": {},
   "source": [
    "### 💾 3) Print Stats and Save Results"
   ]
  },
  {
   "cell_type": "code",
   "execution_count": null,
   "metadata": {},
   "outputs": [],
   "source": [
    "# Count the occurrences of each label in the 'llmLabel_START' column\n",
    "labelCounts = methodsDF['llmLabel_START'].value_counts()\n",
    "\n",
    "# Print the counts with emojis and percentages\n",
    "total = labelCounts.sum()\n",
    "\n",
    "print(\"===\"*20)\n",
    "print(\"\\n--- 📊 Final Results:\")\n",
    "print(\"--- ✅ ADVANTAGE_GAIN: {} [{:.2f}%]\".format(labelCounts.get('ADVANTAGE_GAIN', 0), (labelCounts.get('ADVANTAGE_GAIN', 0) / total) * 100 if total > 0 else 0))\n",
    "print(\"--- ❌ NO_INFORMATION: {} [{:.2f}%]\".format(labelCounts.get('NO_INFORMATION', 0), (labelCounts.get('NO_INFORMATION', 0) / total) * 100 if total > 0 else 0))\n",
    "print(\"===\"*20)"
   ]
  },
  {
   "cell_type": "code",
   "execution_count": null,
   "metadata": {},
   "outputs": [],
   "source": [
    "RESULTS_PATH = \"./0_PipelineData/\"\n",
    "\n",
    "# Create the results directory if it doesn't exist\n",
    "if not os.path.exists(RESULTS_PATH):\n",
    "\tprint(\"--- 📁🆕 Creating results folder: {}\".format(RESULTS_PATH))\n",
    "\tos.makedirs(RESULTS_PATH)\n",
    "\n",
    "# Save the labelled DataFrame to a CSV file\n",
    "methodsDF.to_csv(os.path.join(RESULTS_PATH, \"1_llmPrefilteredMethods_{}.csv\".format(MODEL)), index=False)"
   ]
  },
  {
   "cell_type": "markdown",
   "metadata": {},
   "source": [
    "##### 🔚 End"
   ]
  },
  {
   "cell_type": "code",
   "execution_count": null,
   "metadata": {},
   "outputs": [],
   "source": [
    "endTime = datetime.datetime.now()\n",
    "print(\"\\n🔚 --- END:  {} --- 🔚\".format(endTime.strftime(\"%Y-%m-%d %H:%M:%S\")))\n",
    "\n",
    "# Assuming endTime and initTime are datetime objects\n",
    "totalTime = endTime - initTime\n",
    "hours     = totalTime.total_seconds() // 3600\n",
    "minutes   = (totalTime.total_seconds() % 3600) // 60\n",
    "seconds   = totalTime.total_seconds() % 60\n",
    "print(\"⏱️ --- Time: {:02d} hours and {:02d} minutes [{:02d} seconds] --- ⏱️\".format(int(hours), int(minutes), int(totalTime.total_seconds())))"
   ]
  }
 ],
 "metadata": {
  "kernelspec": {
   "display_name": "marcoEnv",
   "language": "python",
   "name": "python3"
  },
  "language_info": {
   "codemirror_mode": {
    "name": "ipython",
    "version": 3
   },
   "file_extension": ".py",
   "mimetype": "text/x-python",
   "name": "python",
   "nbconvert_exporter": "python",
   "pygments_lexer": "ipython3",
   "version": "3.11.11"
  }
 },
 "nbformat": 4,
 "nbformat_minor": 2
}
