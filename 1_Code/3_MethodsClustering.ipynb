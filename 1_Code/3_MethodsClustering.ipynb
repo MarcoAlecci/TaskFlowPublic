{
 "cells": [
  {
   "cell_type": "markdown",
   "metadata": {},
   "source": [
    "## 🏷️ Sub-Phase 2B : Cluster Android Methods\n",
    "\n",
    "Applying a clustering algorithm to group methods exhibiting similar semantic characteristics"
   ]
  },
  {
   "cell_type": "code",
   "execution_count": null,
   "metadata": {},
   "outputs": [],
   "source": [
    "# Imports\n",
    "from   dotenv      \t\timport load_dotenv\n",
    "from   collections \t\timport Counter\n",
    "from   sklearn.cluster \timport KMeans\n",
    "import pandas      as pd\n",
    "import numpy       as np\n",
    "import datetime\n",
    "import json\n",
    "import os"
   ]
  },
  {
   "cell_type": "markdown",
   "metadata": {},
   "source": [
    "##### Parameters"
   ]
  },
  {
   "cell_type": "code",
   "execution_count": null,
   "metadata": {},
   "outputs": [],
   "source": [
    "TMP_PATH = \"../../0_Data/TMP\""
   ]
  },
  {
   "cell_type": "markdown",
   "metadata": {},
   "source": [
    "#### Initialization"
   ]
  },
  {
   "cell_type": "code",
   "execution_count": null,
   "metadata": {},
   "outputs": [],
   "source": [
    "print(\"⚡ START: {} ⚡\".format(datetime.datetime.now().strftime(\"%Y-%m-%d %H:%M:%S\")))\n",
    "initTime = datetime.datetime.now()"
   ]
  },
  {
   "cell_type": "code",
   "execution_count": null,
   "metadata": {},
   "outputs": [],
   "source": [
    "# Create TMP Folder\n",
    "if not os.path.exists(TMP_PATH):\n",
    "\tos.makedirs(TMP_PATH)\n",
    "\tprint(\"--- 📁🆕 Folder created       : {}\\n\".format(TMP_PATH))\n",
    "else:\n",
    "\tprint(\"--- 📁✅ Folder already exists: {}\\n\".format(TMP_PATH))"
   ]
  },
  {
   "cell_type": "code",
   "execution_count": null,
   "metadata": {},
   "outputs": [],
   "source": [
    "# Load .env Info\n",
    "load_dotenv()"
   ]
  },
  {
   "cell_type": "markdown",
   "metadata": {},
   "source": [
    "#### 📥 1) Load Data "
   ]
  },
  {
   "cell_type": "code",
   "execution_count": null,
   "metadata": {},
   "outputs": [],
   "source": [
    "# Model used to generate embeddings\n",
    "MODEL = \"text-embedding-3-small\""
   ]
  },
  {
   "cell_type": "code",
   "execution_count": null,
   "metadata": {},
   "outputs": [],
   "source": [
    "# Data Path\n",
    "DATA_PATH = \"./0_PipelineData/2_methodsEmbedding_{}.csv\".format(MODEL)\n",
    "\n",
    "# Load the CSV file into a DataFrame\n",
    "methodsDF = pd.read_csv(DATA_PATH)\n",
    "\n",
    "# Show the first few rows of the DataFrame\n",
    "methodsDF.head(3)"
   ]
  },
  {
   "cell_type": "code",
   "execution_count": null,
   "metadata": {},
   "outputs": [],
   "source": [
    "# Convert to numpy arrays\n",
    "methodsDF['methodEmbedding'] = methodsDF['methodEmbedding'].apply(lambda x: np.array(json.loads(x)))"
   ]
  },
  {
   "cell_type": "markdown",
   "metadata": {},
   "source": [
    "#### 🖥️ 2) Process Embeddings and Cluster using K-Means"
   ]
  },
  {
   "cell_type": "code",
   "execution_count": null,
   "metadata": {},
   "outputs": [],
   "source": [
    "# Number of clusters\n",
    "N_CLUSTERS = 150\n",
    "\n",
    "# TEST\n",
    "N_CLUSTERS = 2\n",
    "\n",
    "# Print info\n",
    "print(\"--- 🔹 N_CLUSTERS : {}\".format(N_CLUSTERS))"
   ]
  },
  {
   "cell_type": "code",
   "execution_count": null,
   "metadata": {},
   "outputs": [],
   "source": [
    "# Get the list\n",
    "X = np.vstack(methodsDF['methodEmbedding'])\n",
    "\n",
    "print(\"--- 🔹 Size of X  : {}\".format(X.shape))\n",
    "\t\t\n",
    "# Perform KMeans clustering\n",
    "kmeans = KMeans(n_clusters=N_CLUSTERS)\n",
    "\n",
    "# Fit the model and predict the cluster labels\n",
    "labels = kmeans.fit_predict(X)\n",
    "\n",
    "# Add the cluster labels to the DataFrame\n",
    "methodsDF[\"clusterID_{}\".format(N_CLUSTERS)] = labels\n",
    "\n",
    "# Calculate and print min, max, avg, and median of cluster sizes\n",
    "clusterCounts = Counter(labels)\n",
    "clusterSizes  = list(clusterCounts.values())\n",
    "print(\"--- 🔹 Min cluster size    : {}\".format(min(clusterSizes)))\n",
    "print(\"--- 🔹 Max cluster size    : {}\".format(max(clusterSizes)))\n",
    "print(\"--- 🔹 Avg cluster size    : {:.2f}\".format(np.mean(clusterSizes)))\n",
    "print(\"--- 🔹 Median cluster size : {}\".format(np.median(clusterSizes)))\n",
    "\n",
    "methodsDF.head(3)"
   ]
  },
  {
   "cell_type": "markdown",
   "metadata": {},
   "source": [
    "#### 💾 3) Save Results"
   ]
  },
  {
   "cell_type": "code",
   "execution_count": null,
   "metadata": {},
   "outputs": [],
   "source": [
    "# Where to save the results\n",
    "RESULTS_PATH = \"./0_PipelineData/\"\n",
    "\n",
    "# Save the labelled Methods\n",
    "filePath  = RESULTS_PATH + \"3_methodsClusters_{}.csv\".format(MODEL)\n",
    "\n",
    "# Drop the 'methodEmbedding' column before saving\n",
    "methodsDF.drop(columns=[\"methodEmbedding\"], inplace=True)\n",
    "\n",
    "# Save clusters\n",
    "methodsDF.to_csv(filePath, index=False)\n",
    "print(\"--- 💾 Saved Clusters: {}\".format(filePath))"
   ]
  },
  {
   "cell_type": "markdown",
   "metadata": {},
   "source": [
    "##### 🔚 End"
   ]
  },
  {
   "cell_type": "code",
   "execution_count": null,
   "metadata": {},
   "outputs": [],
   "source": [
    "endTime = datetime.datetime.now()\n",
    "print(\"\\n🔚 --- END:  {} --- 🔚\".format(endTime.strftime(\"%Y-%m-%d %H:%M:%S\")))\n",
    "\n",
    "# Assuming endTime and initTime are datetime objects\n",
    "totalTime = endTime - initTime\n",
    "hours     = totalTime.total_seconds() // 3600\n",
    "minutes   = (totalTime.total_seconds() % 3600) // 60\n",
    "seconds   = totalTime.total_seconds() % 60\n",
    "print(\"⏱️ --- Time: {:02d} hours and {:02d} minutes [{:02d} seconds] --- ⏱️\".format(int(hours), int(minutes), int(totalTime.total_seconds())))"
   ]
  }
 ],
 "metadata": {
  "kernelspec": {
   "display_name": "marcoEnv",
   "language": "python",
   "name": "python3"
  },
  "language_info": {
   "codemirror_mode": {
    "name": "ipython",
    "version": 3
   },
   "file_extension": ".py",
   "mimetype": "text/x-python",
   "name": "python",
   "nbconvert_exporter": "python",
   "pygments_lexer": "ipython3",
   "version": "3.11.11"
  }
 },
 "nbformat": 4,
 "nbformat_minor": 2
}
