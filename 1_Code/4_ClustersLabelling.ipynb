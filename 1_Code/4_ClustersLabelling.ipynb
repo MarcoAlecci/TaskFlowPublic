{
 "cells": [
  {
   "cell_type": "markdown",
   "metadata": {},
   "source": [
    "## 🏷️ Sub-Phase 2C : Labelling Clusters\n",
    "\n",
    "Once these clusters of semantically similar methods were formed, the final step involved assigning a meaningful and descriptive label to each."
   ]
  },
  {
   "cell_type": "code",
   "execution_count": null,
   "metadata": {},
   "outputs": [],
   "source": [
    "# Imports\n",
    "from   dotenv      import load_dotenv\n",
    "import pandas      as pd\n",
    "import datetime\n",
    "import json\n",
    "import os\n",
    "\n",
    "# Custom Imports\n",
    "import sys\n",
    "sys.path.append('../')\n",
    "import LLMUtils"
   ]
  },
  {
   "cell_type": "markdown",
   "metadata": {},
   "source": [
    "##### Parameters"
   ]
  },
  {
   "cell_type": "code",
   "execution_count": null,
   "metadata": {},
   "outputs": [],
   "source": [
    "TMP_PATH = \"../../0_Data/TMP\""
   ]
  },
  {
   "cell_type": "markdown",
   "metadata": {},
   "source": [
    "#### Initialization"
   ]
  },
  {
   "cell_type": "code",
   "execution_count": null,
   "metadata": {},
   "outputs": [],
   "source": [
    "print(\"⚡ START: {} ⚡\".format(datetime.datetime.now().strftime(\"%Y-%m-%d %H:%M:%S\")))\n",
    "initTime = datetime.datetime.now()"
   ]
  },
  {
   "cell_type": "code",
   "execution_count": null,
   "metadata": {},
   "outputs": [],
   "source": [
    "# Create TMP Folder\n",
    "if not os.path.exists(TMP_PATH):\n",
    "\tos.makedirs(TMP_PATH)\n",
    "\tprint(\"--- 📁🆕 Folder created       : {}\\n\".format(TMP_PATH))\n",
    "else:\n",
    "\tprint(\"--- 📁✅ Folder already exists: {}\\n\".format(TMP_PATH))"
   ]
  },
  {
   "cell_type": "code",
   "execution_count": null,
   "metadata": {},
   "outputs": [],
   "source": [
    "# Load .env Info\n",
    "load_dotenv()"
   ]
  },
  {
   "cell_type": "markdown",
   "metadata": {},
   "source": [
    "#### 📥 1) Load Data "
   ]
  },
  {
   "cell_type": "code",
   "execution_count": null,
   "metadata": {},
   "outputs": [],
   "source": [
    "# Methods used for the embedding\n",
    "MODEL = \"text-embedding-3-small\""
   ]
  },
  {
   "cell_type": "code",
   "execution_count": null,
   "metadata": {},
   "outputs": [],
   "source": [
    "# Data Path\n",
    "DATA_PATH = \"./0_PipelineData/3_methodsClusters_{}.csv\".format(MODEL)\n",
    "\n",
    "# Load the CSV file into a DataFrame\n",
    "methodsDF = pd.read_csv(DATA_PATH)\n",
    "\n",
    "# Show\n",
    "methodsDF.head(3)"
   ]
  },
  {
   "cell_type": "markdown",
   "metadata": {},
   "source": [
    "#### 🖥️ 2) Process Embeddings and cluster"
   ]
  },
  {
   "cell_type": "code",
   "execution_count": null,
   "metadata": {},
   "outputs": [],
   "source": [
    "# Model to be used\n",
    "MODEL = \"gpt-4o-mini\""
   ]
  },
  {
   "cell_type": "code",
   "execution_count": null,
   "metadata": {},
   "outputs": [],
   "source": [
    "print(\"\\n--- ⭕ LLM Init & Check\")\n",
    "print(\"--- ⭕ Model: {}\".format(MODEL))\n",
    "\n",
    "# OpenAI (PAYING)\n",
    "llmInterface = LLMUtils.ChatGPTInterface(model=MODEL, pricing=0.150)\n",
    "print(llmInterface.sendRequest(\"Ping!\"))"
   ]
  },
  {
   "cell_type": "code",
   "execution_count": null,
   "metadata": {},
   "outputs": [],
   "source": [
    "PROMPT_PHASE4_TEMPLATE = \"\"\"\n",
    "You are an expert in Android security and privacy.\n",
    "\n",
    "### Task\n",
    "You will be provided with a list of Android API methods. \n",
    "The return values of all these methods can be exploited by an attacker—either individually or in combination with other data—for malicious purposes.\n",
    "\n",
    "Your goal is to assign a single category label that best represents the type of sensitive information exposed by the API return values.\n",
    "\n",
    "### Examples\n",
    "\"LOCATION\": \"Using location APIs, attackers can track a user’s real-time or historical movements, enabling stalking, targeted advertising, or physical security threats.\",\n",
    "\"CONTACTS\": \"Access to contact data can result in privacy violations, such as unauthorized sharing of personal information or social engineering attacks.\",\n",
    "\n",
    "### Instructions\n",
    "- Carefully analyze the group of Android API methods.\n",
    "- Assign only **one** category label that best summarizes the exposure according to the return values of the API methods.\n",
    "- Try to avoid vague or generic labels such as \"SENSITIVE_DATA\", \"PRIVATE_INFO\", or \"SECURITY_RISK\".\n",
    "- Do **not** include any explanations, reasoning, or extra output — return only the label.\n",
    "\n",
    "### Output Format\n",
    "[LABEL_ID]: [ATTACK_DESCRIPTION]\n",
    "\n",
    "### Input\n",
    "{}\n",
    "\"\"\""
   ]
  },
  {
   "cell_type": "code",
   "execution_count": null,
   "metadata": {},
   "outputs": [],
   "source": [
    "# Number of clusters\n",
    "N_CLUSTERS = 150\n",
    "\n",
    "# TEST\n",
    "N_CLUSTERS = 2\n",
    "\n",
    "# Print info\n",
    "print(\"--- 🔹 N_CLUSTERS: {}\".format(N_CLUSTERS))"
   ]
  },
  {
   "cell_type": "code",
   "execution_count": null,
   "metadata": {},
   "outputs": [],
   "source": [
    "# Column name for clustering\n",
    "clusterCol = \"clusterID_{}\".format(N_CLUSTERS)\n",
    "\n",
    "# Ensure the column can hold string values\n",
    "methodsDF[clusterCol] = methodsDF[clusterCol].astype(str)\n",
    "\n",
    "# Group the DataFrame by the clustering column\n",
    "groupDF = methodsDF.groupby(clusterCol)\n",
    "\n",
    "# Dictionary to store privacy labels for this combination\n",
    "privacyLabels = {}\n",
    "\n",
    "# Iterate through each cluster\n",
    "for clusterValue, clusterDf in groupDF:\n",
    "\tprint(\"------ 🔸 Cluster ID                :  {}\".format(clusterValue))\n",
    "\n",
    "\t# Prepare input for the prompt\n",
    "\tinputMethods = \"\\n\".join(clusterDf['methodSignature'].tolist())\n",
    "\tprompt = PROMPT_PHASE4_TEMPLATE.format(inputMethods)\n",
    "\n",
    "\t# Send prompt to the LLM and get response\n",
    "\tresponse = llmInterface.sendRequest(prompt)\n",
    "\n",
    "\t# Basic validation for response\n",
    "\tif \": \" not in response:\n",
    "\t\tprint(\"--- ⚠️ Invalid response format: {}\".format(response))\n",
    "\t\tcontinue\n",
    "\n",
    "\t# Extract label and description\n",
    "\tprivacyLabelID, privacyLabelDescription = response.split(\": \", 1)\n",
    "\tprivacyLabelID = privacyLabelID.strip(\"[]\")\n",
    "\tprivacyLabelDescription = privacyLabelDescription.replace('\"', '').replace('\\t', '').replace('\\n', '').strip()\n",
    "\n",
    "\t# Print the extracted values\n",
    "\tprint(\"------ 🔸 Privacy Label ID          : {}\".format(privacyLabelID))\n",
    "\tprint(\"------ 🔸 Privacy Label Description : {}\".format(privacyLabelDescription))\n",
    "\tprint(\"---\" * 20)\n",
    "\n",
    "\t# Warn if the label ID is already used\n",
    "\tif privacyLabelID in privacyLabels:\n",
    "\t\tprint(\"--- ⚠️ Warning: '{}' already exists.\".format(privacyLabelID))\n",
    "\n",
    "\t# Store label\n",
    "\tprivacyLabels[privacyLabelID] = privacyLabelDescription\n",
    "\n",
    "\t# Replace the cluster value with the privacyLabelID in the original DataFrame\n",
    "\tmethodsDF.loc[methodsDF[clusterCol] == clusterValue, clusterCol] = privacyLabelID"
   ]
  },
  {
   "cell_type": "markdown",
   "metadata": {},
   "source": [
    "#### 💾 3) Save Results"
   ]
  },
  {
   "cell_type": "code",
   "execution_count": null,
   "metadata": {},
   "outputs": [],
   "source": [
    "# Where to save the results\n",
    "RESULTS_PATH = \"./0_PipelineData/\"\n",
    "\n",
    "# Save the privacyLabels dictionary as a JSON file\n",
    "jsonFilePath = RESULTS_PATH +  \"4_privacyLabels_{}.json\".format(MODEL)\n",
    "with open(jsonFilePath, 'w') as jsonFile:\n",
    "\tjson.dump(privacyLabels, jsonFile, indent=4)\n",
    "print(\"--- 💾 Saved Privacy Labels  : {}\".format(jsonFilePath))\n",
    "\n",
    "# Save the labelled Methods\n",
    "filePath = RESULTS_PATH + \"4_methodsPrivacyLabels_{}.csv\".format(MODEL)\n",
    "methodsDF.to_csv(filePath, index=False)\n",
    "print(\"--- 💾 Saved Labelled Methods : {}\".format(filePath))"
   ]
  },
  {
   "cell_type": "markdown",
   "metadata": {},
   "source": [
    "##### 🔚 End"
   ]
  },
  {
   "cell_type": "code",
   "execution_count": null,
   "metadata": {},
   "outputs": [],
   "source": [
    "endTime = datetime.datetime.now()\n",
    "print(\"\\n🔚 --- END:  {} --- 🔚\".format(endTime.strftime(\"%Y-%m-%d %H:%M:%S\")))\n",
    "\n",
    "# Assuming endTime and initTime are datetime objects\n",
    "totalTime = endTime - initTime\n",
    "hours     = totalTime.total_seconds() // 3600\n",
    "minutes   = (totalTime.total_seconds() % 3600) // 60\n",
    "seconds   = totalTime.total_seconds() % 60\n",
    "print(\"⏱️ --- Time: {:02d} hours and {:02d} minutes [{:02d} seconds] --- ⏱️\".format(int(hours), int(minutes), int(totalTime.total_seconds())))"
   ]
  }
 ],
 "metadata": {
  "kernelspec": {
   "display_name": "marcoEnv",
   "language": "python",
   "name": "python3"
  },
  "language_info": {
   "codemirror_mode": {
    "name": "ipython",
    "version": 3
   },
   "file_extension": ".py",
   "mimetype": "text/x-python",
   "name": "python",
   "nbconvert_exporter": "python",
   "pygments_lexer": "ipython3",
   "version": "3.11.11"
  }
 },
 "nbformat": 4,
 "nbformat_minor": 2
}
