{
 "cells": [
  {
   "cell_type": "markdown",
   "metadata": {},
   "source": [
    "## 🏷️ Sub-Phase 2A : Generate embeddings for Android Methods.\n",
    "\n",
    "Generating a numerical vector representation (embedding) for each method labeled ADVANTAGE_GAIN"
   ]
  },
  {
   "cell_type": "code",
   "execution_count": null,
   "metadata": {},
   "outputs": [],
   "source": [
    "# Imports\n",
    "from   dotenv      import load_dotenv\n",
    "import pandas      as pd\n",
    "import datetime\n",
    "import os\n",
    "\n",
    "# Custom Imports\n",
    "import sys\n",
    "sys.path.append('../')\n",
    "import LLMUtils "
   ]
  },
  {
   "cell_type": "markdown",
   "metadata": {},
   "source": [
    "##### Parameters"
   ]
  },
  {
   "cell_type": "code",
   "execution_count": null,
   "metadata": {},
   "outputs": [],
   "source": [
    "TMP_PATH = \"../../0_Data/TMP\""
   ]
  },
  {
   "cell_type": "markdown",
   "metadata": {},
   "source": [
    "#### Initialization"
   ]
  },
  {
   "cell_type": "code",
   "execution_count": null,
   "metadata": {},
   "outputs": [],
   "source": [
    "print(\"⚡ START: {} ⚡\".format(datetime.datetime.now().strftime(\"%Y-%m-%d %H:%M:%S\")))\n",
    "initTime = datetime.datetime.now()"
   ]
  },
  {
   "cell_type": "code",
   "execution_count": null,
   "metadata": {},
   "outputs": [],
   "source": [
    "# Create TMP Folder\n",
    "if not os.path.exists(TMP_PATH):\n",
    "\tos.makedirs(TMP_PATH)\n",
    "\tprint(\"--- 📁🆕 Folder created       : {}\\n\".format(TMP_PATH))\n",
    "else:\n",
    "\tprint(\"--- 📁✅ Folder already exists: {}\\n\".format(TMP_PATH))"
   ]
  },
  {
   "cell_type": "code",
   "execution_count": null,
   "metadata": {},
   "outputs": [],
   "source": [
    "# Load .env Info\n",
    "load_dotenv()"
   ]
  },
  {
   "cell_type": "markdown",
   "metadata": {},
   "source": [
    "#### 📥 1) Load Data "
   ]
  },
  {
   "cell_type": "code",
   "execution_count": null,
   "metadata": {},
   "outputs": [],
   "source": [
    "# MODEL used\n",
    "MODEL = \"gpt-4o-mini\""
   ]
  },
  {
   "cell_type": "code",
   "execution_count": null,
   "metadata": {},
   "outputs": [],
   "source": [
    "# Data Path\n",
    "DATA_PATH = \"./0_PipelineData/1_llmPrefilteredMethods_{}.csv\".format(MODEL)\n",
    "\n",
    "# Load the CSV file into a DataFrame\n",
    "methodsDF = pd.read_csv(DATA_PATH)\n",
    "\n",
    "# Display the first few rows of the DataFrame\n",
    "methodsDF.head(3)"
   ]
  },
  {
   "cell_type": "code",
   "execution_count": null,
   "metadata": {},
   "outputs": [],
   "source": [
    "# Count the number of rows in the DataFrame per type\n",
    "labelCounts = methodsDF['llmLabel_START'].value_counts()\n",
    "print(\"📊 Label Counts:\")\n",
    "for label, count in labelCounts.items():\n",
    "\tprint(\"🔹 {} : {}\".format(label, count))\n",
    "\n",
    "# Filter out the rows where 'llmLabel_START' is not 'ADVANTAGE_GAIN'\n",
    "methodsDF = methodsDF[methodsDF['llmLabel_START'] == 'ADVANTAGE_GAIN']\n",
    "\n",
    "# Order the methods alphabetically by 'methodSignature'\n",
    "methodsDF = methodsDF.sort_values(by='methodSignature')\n",
    "\n",
    "# Test purposes\n",
    "methodsDF = methodsDF.head(10)"
   ]
  },
  {
   "cell_type": "markdown",
   "metadata": {},
   "source": [
    "#### 🖥️ 2) LLM Embeddings"
   ]
  },
  {
   "cell_type": "code",
   "execution_count": null,
   "metadata": {},
   "outputs": [],
   "source": [
    "# Small\n",
    "MODEL = \"text-embedding-3-small\"\n",
    "\n",
    "# Interface\n",
    "openAIEmbeddingsInterface = LLMUtils.openAiEmbeddingsInterface(MODEL)"
   ]
  },
  {
   "cell_type": "code",
   "execution_count": null,
   "metadata": {},
   "outputs": [],
   "source": [
    "# PARAMETERS\n",
    "DOCUMENTATION_PATH = \"../0_Data/methodsDocumentationFiles/\""
   ]
  },
  {
   "cell_type": "code",
   "execution_count": null,
   "metadata": {},
   "outputs": [],
   "source": [
    "print(\"\\n--- ⭕ START\\n\")\n",
    "\n",
    "# To store the results\n",
    "methodsDF['methodEmbedding'] = None\n",
    "\n",
    "# Process each row in the DataFrame\n",
    "def processRow(row):\n",
    "\t# Get information from the row\n",
    "\tsha256          = row['sha256']\n",
    "\tmethodSignature = row['methodSignature']\n",
    "\n",
    "\t# Print the method signature\n",
    "\tprint(\"--- 🔍 Android Method: {}\".format(methodSignature))\n",
    "\n",
    "\t# Retrieve documentation and sourceCode\n",
    "\tdocumentationPath = os.path.join(DOCUMENTATION_PATH, \"{}.txt\".format(sha256))\n",
    "\twith open(documentationPath, 'r') as DocFile:\n",
    "\t\tdocumentation = DocFile.read()\n",
    "\n",
    "\t# Combine methodSignature and Documentation\n",
    "\tcombinedText = methodSignature + \"\\n\" + documentation\n",
    "\n",
    "\t# Get embedding for the combined text\n",
    "\tcombinedEmbedding = openAIEmbeddingsInterface.getEmbedding(combinedText)\n",
    "\tprint(\"--- 🔹 Combined Embedding : DONE\")\n",
    "\n",
    "\t# Store the embedding into the DataFrame\n",
    "\tmethodsDF.at[row.name, 'methodEmbedding'] = combinedEmbedding\n",
    "\n",
    "\tprint(\"---\"*20)\n",
    "\n",
    "# Apply the function to the DataFrame\n",
    "_ = methodsDF.apply(processRow, axis=1)"
   ]
  },
  {
   "cell_type": "markdown",
   "metadata": {},
   "source": [
    "#### 💾 3) Save Results"
   ]
  },
  {
   "cell_type": "code",
   "execution_count": null,
   "metadata": {},
   "outputs": [],
   "source": [
    "# Where to store the results\n",
    "RESULTS_PATH = \"./0_PipelineData/\"\n",
    "\n",
    "# Save the labelled Methods\n",
    "filePath  = RESULTS_PATH + \"2_methodsEmbedding_{}.csv\".format(MODEL)\n",
    "\n",
    "# Save\n",
    "methodsDF.to_csv(filePath, index=False)\n",
    "print(\"--- 💾 Saved Embeddings: {}\".format(filePath))"
   ]
  },
  {
   "cell_type": "markdown",
   "metadata": {},
   "source": [
    "##### 🔚 End"
   ]
  },
  {
   "cell_type": "code",
   "execution_count": null,
   "metadata": {},
   "outputs": [],
   "source": [
    "endTime = datetime.datetime.now()\n",
    "print(\"\\n🔚 --- END:  {} --- 🔚\".format(endTime.strftime(\"%Y-%m-%d %H:%M:%S\")))\n",
    "\n",
    "# Assuming endTime and initTime are datetime objects\n",
    "totalTime = endTime - initTime\n",
    "hours     = totalTime.total_seconds() // 3600\n",
    "minutes   = (totalTime.total_seconds() % 3600) // 60\n",
    "seconds   = totalTime.total_seconds() % 60\n",
    "print(\"⏱️ --- Time: {:02d} hours and {:02d} minutes [{:02d} seconds] --- ⏱️\".format(int(hours), int(minutes), int(totalTime.total_seconds())))"
   ]
  }
 ],
 "metadata": {
  "kernelspec": {
   "display_name": "marcoEnv",
   "language": "python",
   "name": "python3"
  },
  "language_info": {
   "codemirror_mode": {
    "name": "ipython",
    "version": 3
   },
   "file_extension": ".py",
   "mimetype": "text/x-python",
   "name": "python",
   "nbconvert_exporter": "python",
   "pygments_lexer": "ipython3",
   "version": "3.11.11"
  }
 },
 "nbformat": 4,
 "nbformat_minor": 2
}
